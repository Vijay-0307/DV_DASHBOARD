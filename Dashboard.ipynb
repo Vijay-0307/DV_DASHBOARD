{
 "cells": [
  {
   "cell_type": "code",
   "execution_count": null,
   "metadata": {},
   "outputs": [],
   "source": [
    "from bokeh.plotting import figure, curdoc\n",
    "from bokeh.layouts import column, row\n",
    "from bokeh.models import Select\n",
    "from bokeh.io import output_file, show\n",
    "from bokeh.server.server import Server\n",
    "from bokeh.application import Application\n",
    "from bokeh.application.handlers.function import FunctionHandler\n",
    "\n",
    "# Create the plots\n",
    "plot1 = figure(width=400, height=300)\n",
    "plot1.circle([1, 2, 3], [4, 5, 6], size=10, color=\"blue\")\n",
    "\n",
    "plot2 = figure(width=400, height=300)\n",
    "plot2.line([1, 2, 3], [4, 5, 6], line_width=2, color=\"green\")\n",
    "\n",
    "# Create the widget\n",
    "select = Select(title=\"Select color\", value=\"blue\", options=[\"blue\", \"green\"])\n",
    "\n",
    "# Define the callback function\n",
    "def update_color(attr, old, new):\n",
    "    color = select.value\n",
    "    plot1.circle([1, 2, 3], [4, 5, 6], size=10, color=color)\n",
    "\n",
    "# Attach the callback to the widget\n",
    "select.on_change('value', update_color)\n",
    "\n",
    "# Create the layout\n",
    "layout = column(row(plot1, plot2), select)\n",
    "\n",
    "# Define the app\n",
    "def modify_doc(doc):\n",
    "    doc.add_root(layout)\n",
    "\n",
    "# Create the application\n",
    "app = Application(FunctionHandler(modify_doc))\n",
    "\n",
    "# Create the Bokeh server\n",
    "server = Server({'/': app}, num_procs=1)\n",
    "\n",
    "# Start the server\n",
    "server.start()\n",
    "\n",
    "# Open the application in a browser\n",
    "server.io_loop.add_callback(server.show, \"/\")\n",
    "\n",
    "# Run the application\n",
    "server.io_loop.start()\n",
    "\n"
   ]
  },
  {
   "cell_type": "code",
   "execution_count": null,
   "metadata": {},
   "outputs": [],
   "source": []
  }
 ],
 "metadata": {
  "kernelspec": {
   "display_name": "Python 3",
   "language": "python",
   "name": "python3"
  },
  "language_info": {
   "codemirror_mode": {
    "name": "ipython",
    "version": 3
   },
   "file_extension": ".py",
   "mimetype": "text/x-python",
   "name": "python",
   "nbconvert_exporter": "python",
   "pygments_lexer": "ipython3",
   "version": "3.11.4"
  },
  "orig_nbformat": 4
 },
 "nbformat": 4,
 "nbformat_minor": 2
}
